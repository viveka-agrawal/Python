{
  "cells": [
    {
      "cell_type": "markdown",
      "metadata": {
        "id": "WVpPSjVbtCAR"
      },
      "source": [
        "# Homework 3\n",
        "#### CS 273P Machine Learning and Data Mining (Winter 2025)\n",
        "\n",
        "* Q1: Common PyTorch Operations (20 points)\n",
        "* Q2: Linear Modeling on Titanic Dataset (75 points)\n",
        "* Statement of Collaboration (5 points)\n",
        "\n",
        "## Submission guidelines\n",
        "Once you have completed the assignment in this notebook, you should export a PDF from this notebook and submit it to Gradescope. You do not need to submit anything else. Make sure your PDF contains your code, the output of each cell, and your results are not blocked or clipped significantly. Once your PDF is uploaded to Gradescope, you will be prompted to match each question with the pages in your PDF, please make sure you complete this step and do it correctly. Since this is the second assignment, and we have made our submission guidelines clear, we will not accept any submission that does not follow the guidelines."
      ]
    },
    {
      "cell_type": "markdown",
      "metadata": {
        "id": "J3N0vT27tCAT"
      },
      "source": [
        "## Question 1: Common PyTorch Operations\n",
        "You have used PyTorch in your last assignment. In this question, let's get to know PyTorch better by performing some common operations. In practice, you will be using these operations frequently.\n",
        "\n",
        "For now, import PyTorch first. If you don't have it installed, you can install it by running `!pip install torch` in a code cell.\n",
        "\n",
        "In addition, you may find their documentation to learn more: https://pytorch.org/docs/stable/index.html"
      ]
    },
    {
      "cell_type": "code",
      "execution_count": 1,
      "metadata": {
        "id": "blN1NgPTtCAU"
      },
      "outputs": [],
      "source": [
        "import torch\n",
        "import numpy as np"
      ]
    },
    {
      "cell_type": "markdown",
      "metadata": {
        "id": "MqrvMgUutCAV"
      },
      "source": [
        "### Question 1.1: Tensor Operations (5 points)\n",
        "In this question, we will look at some common code snippets you will encounter when working with PyTorch tensors."
      ]
    },
    {
      "cell_type": "code",
      "execution_count": 2,
      "metadata": {
        "colab": {
          "base_uri": "https://localhost:8080/"
        },
        "id": "RiF0sRdTtCAV",
        "outputId": "b6d98cb1-4873-4c8c-f41f-9975b26fce21"
      },
      "outputs": [
        {
          "output_type": "stream",
          "name": "stdout",
          "text": [
            "Shape of tensor A: torch.Size([2, 2])\n",
            "\n",
            "\n",
            "Tensor A * Tensor B: tensor([[1, 2],\n",
            "        [3, 4]])\n",
            "\n",
            "\n",
            "Shape of resulting concatenated tensor: torch.Size([4, 2])\n",
            "\n",
            "\n",
            "Reshaped A: tensor([1, 2, 3, 4])\n",
            "\n",
            "\n",
            "Random tensor: tensor([[0.6505, 0.8118, 0.7979],\n",
            "        [0.1916, 0.3523, 0.6782],\n",
            "        [0.2753, 0.1566, 0.2115]])\n",
            "\n",
            "\n"
          ]
        }
      ],
      "source": [
        "# Create a 2D tensor\n",
        "A = torch.tensor([[1, 2], [3, 4]])\n",
        "# Create an all-ones tensor with the same shape as A\n",
        "B = torch.ones_like(A)\n",
        "# Create an all-zeros tensor with the same shape as A\n",
        "C = torch.zeros_like(A)\n",
        "\n",
        "\n",
        "##### Your code starts here #####\n",
        "\n",
        "# Print out the shape of tensor A\n",
        "print(\"Shape of tensor A:\", A.shape)\n",
        "print(\"\\n\")\n",
        "# Print out the result of multiplying tensor A with tensor B\n",
        "print(\"Tensor A * Tensor B:\", A * B)\n",
        "print(\"\\n\")\n",
        "# Concatenate B and C along dimension 0 and print out the shape of the result\n",
        "print(\"Shape of resulting concatenated tensor:\", torch.cat((B, C), dim=0).shape)\n",
        "print(\"\\n\")\n",
        "# Reshape A into a 1D tensor and print out A\n",
        "print(\"Reshaped A:\", A.reshape(-1))\n",
        "print(\"\\n\")\n",
        "# Create a random tensor of shape (3, 3) with values from 0 to 1 and print out the tensor\n",
        "print(\"Random tensor:\", torch.rand(3, 3))\n",
        "print(\"\\n\")"
      ]
    },
    {
      "cell_type": "markdown",
      "metadata": {
        "id": "3OkUs8UPtCAW"
      },
      "source": [
        "### Question 1.2: Autograd (5 points)\n",
        "Autograd is a feature offered by PyTorch that automatically computes gradients for tensors, this facilitates the updating of model parameters during training. In this question, you will work with autograd to compute gradients for a tensor."
      ]
    },
    {
      "cell_type": "code",
      "execution_count": 3,
      "metadata": {
        "colab": {
          "base_uri": "https://localhost:8080/"
        },
        "id": "HLXVFHZHtCAW",
        "outputId": "0b73024f-f095-49e9-d746-1ffeee49d575"
      },
      "outputs": [
        {
          "output_type": "stream",
          "name": "stdout",
          "text": [
            "tensor([1., 6.])\n"
          ]
        }
      ],
      "source": [
        "# Define a simple function\n",
        "def f(x):\n",
        "    return x[0] + x[1] * x[1]\n",
        "\n",
        "\n",
        "##### Your code starts here #####\n",
        "\n",
        "# Create a 2-element 1D tensor `param` with automatic differentiation enabled\n",
        "# hint: use argument `requires_grad`\n",
        "param = torch.tensor([0.5, 3.0], requires_grad=True)\n",
        "# Calculate the gradient of f with respect to `param`\n",
        "# hint: use `torch.autograd.grad` function\n",
        "gradient = torch.autograd.grad(outputs=f(param), inputs=param)\n",
        "gradient = gradient[0]\n",
        "# Print out the gradient\n",
        "print(gradient)"
      ]
    },
    {
      "cell_type": "markdown",
      "metadata": {
        "id": "JCdSx4QWtCAX"
      },
      "source": [
        "### Question 1.3: The Neural Network Module (5 points)\n",
        "`torch.nn` provides a simple way to define neural network architectures. In this question, you will use `torch.nn` to define a simple linear model."
      ]
    },
    {
      "cell_type": "code",
      "execution_count": 4,
      "metadata": {
        "colab": {
          "base_uri": "https://localhost:8080/"
        },
        "id": "0PU6CXmotCAY",
        "outputId": "5a9bf7d3-1a18-4246-f478-947159ff7756"
      },
      "outputs": [
        {
          "output_type": "stream",
          "name": "stdout",
          "text": [
            "tensor([0.5418], grad_fn=<ViewBackward0>)\n"
          ]
        }
      ],
      "source": [
        "##### Your code starts here #####\n",
        "\n",
        "# Create a Linear model using torch.nn.Linear, with input size 4 and output size 1\n",
        "linear_model = torch.nn.Linear(in_features=4, out_features=1)\n",
        "# Create 1D input tensor of size 4\n",
        "one_dim_input_tensor = torch.randn(4)\n",
        "# Print out the output of the model given the input tensor\n",
        "output_tensor = linear_model(one_dim_input_tensor)\n",
        "print(output_tensor)"
      ]
    },
    {
      "cell_type": "markdown",
      "metadata": {
        "id": "oB-3NiNLtCAY"
      },
      "source": [
        "### Question 1.4: Computing Devices (5 points)\n",
        "PyTorch allows you to run your code on different devices, such as CPUs and GPUs. In this question, we will be checking for a CUDA device (NVIDIA GPU) and move data to and from it if available (don't worry if you don't have a CUDA-compatible GPU)."
      ]
    },
    {
      "cell_type": "code",
      "execution_count": 5,
      "metadata": {
        "colab": {
          "base_uri": "https://localhost:8080/"
        },
        "id": "wHMJSJdYtCAY",
        "outputId": "4c813cdb-3baa-474e-ebb2-94a37ae4ec25"
      },
      "outputs": [
        {
          "output_type": "stream",
          "name": "stdout",
          "text": [
            "Tensor's device: cpu\n"
          ]
        }
      ],
      "source": [
        "cuda_available = torch.cuda.is_available()  # Check if a CUDA GPU is available\n",
        "\n",
        "##### Your code starts here #####\n",
        "\n",
        "# Define the device to be used\n",
        "device = torch.device(\"cuda\" if cuda_available else \"cpu\")\n",
        "# Create a 4x4 tensor and move it to the device\n",
        "tensor = torch.randn(4, 4).to(device)\n",
        "# Print out the tensor's device\n",
        "print(\"Tensor's device:\", tensor.device)\n",
        "# Move it back to the CPU device\n",
        "tensor_cpu = tensor.to(\"cpu\")"
      ]
    },
    {
      "cell_type": "markdown",
      "metadata": {
        "id": "7n-n5GghtCAZ"
      },
      "source": [
        "## Question 2: Linear Modeling on Titanic Dataset\n",
        "\n",
        "The sinking of the Titanic is one of the most infamous shipwrecks in history.\n",
        "\n",
        "On April 15, 1912, during her maiden voyage, the widely considered “unsinkable” RMS Titanic sank after colliding with an iceberg. Unfortunately, there weren’t enough lifeboats for everyone onboard, resulting in the death of 1502 out of 2224 passengers and crew.\n",
        "\n",
        "While there was some element of luck involved in surviving, it seems some groups of people were more likely to survive than others.\n",
        "\n",
        "In this question, we ask you to build a linear model that answers the question: “what sorts of people were more likely to survive?” using passenger data (ie name, age, gender, socio-economic class, etc).\n",
        "\n",
        "![titanic.png](attachment:titanic.png)\n",
        "\n",
        "Why did Rose survive and Jack didn't? Let's find out!\n",
        "\n",
        "![titanic-meme.png](attachment:titanic-meme.png)"
      ]
    },
    {
      "cell_type": "code",
      "source": [
        "from google.colab import files\n",
        "\n",
        "# Upload file from local system\n",
        "uploaded = files.upload()\n",
        "\n",
        "!unzip -q data.zip"
      ],
      "metadata": {
        "colab": {
          "base_uri": "https://localhost:8080/",
          "height": 73
        },
        "id": "flxuhf8C277a",
        "outputId": "cfd50e77-8f5d-4797-b6ac-deb9c564bd0e"
      },
      "execution_count": 6,
      "outputs": [
        {
          "output_type": "display_data",
          "data": {
            "text/plain": [
              "<IPython.core.display.HTML object>"
            ],
            "text/html": [
              "\n",
              "     <input type=\"file\" id=\"files-ac85c931-a946-4567-bf7c-d397adf4a1f2\" name=\"files[]\" multiple disabled\n",
              "        style=\"border:none\" />\n",
              "     <output id=\"result-ac85c931-a946-4567-bf7c-d397adf4a1f2\">\n",
              "      Upload widget is only available when the cell has been executed in the\n",
              "      current browser session. Please rerun this cell to enable.\n",
              "      </output>\n",
              "      <script>// Copyright 2017 Google LLC\n",
              "//\n",
              "// Licensed under the Apache License, Version 2.0 (the \"License\");\n",
              "// you may not use this file except in compliance with the License.\n",
              "// You may obtain a copy of the License at\n",
              "//\n",
              "//      http://www.apache.org/licenses/LICENSE-2.0\n",
              "//\n",
              "// Unless required by applicable law or agreed to in writing, software\n",
              "// distributed under the License is distributed on an \"AS IS\" BASIS,\n",
              "// WITHOUT WARRANTIES OR CONDITIONS OF ANY KIND, either express or implied.\n",
              "// See the License for the specific language governing permissions and\n",
              "// limitations under the License.\n",
              "\n",
              "/**\n",
              " * @fileoverview Helpers for google.colab Python module.\n",
              " */\n",
              "(function(scope) {\n",
              "function span(text, styleAttributes = {}) {\n",
              "  const element = document.createElement('span');\n",
              "  element.textContent = text;\n",
              "  for (const key of Object.keys(styleAttributes)) {\n",
              "    element.style[key] = styleAttributes[key];\n",
              "  }\n",
              "  return element;\n",
              "}\n",
              "\n",
              "// Max number of bytes which will be uploaded at a time.\n",
              "const MAX_PAYLOAD_SIZE = 100 * 1024;\n",
              "\n",
              "function _uploadFiles(inputId, outputId) {\n",
              "  const steps = uploadFilesStep(inputId, outputId);\n",
              "  const outputElement = document.getElementById(outputId);\n",
              "  // Cache steps on the outputElement to make it available for the next call\n",
              "  // to uploadFilesContinue from Python.\n",
              "  outputElement.steps = steps;\n",
              "\n",
              "  return _uploadFilesContinue(outputId);\n",
              "}\n",
              "\n",
              "// This is roughly an async generator (not supported in the browser yet),\n",
              "// where there are multiple asynchronous steps and the Python side is going\n",
              "// to poll for completion of each step.\n",
              "// This uses a Promise to block the python side on completion of each step,\n",
              "// then passes the result of the previous step as the input to the next step.\n",
              "function _uploadFilesContinue(outputId) {\n",
              "  const outputElement = document.getElementById(outputId);\n",
              "  const steps = outputElement.steps;\n",
              "\n",
              "  const next = steps.next(outputElement.lastPromiseValue);\n",
              "  return Promise.resolve(next.value.promise).then((value) => {\n",
              "    // Cache the last promise value to make it available to the next\n",
              "    // step of the generator.\n",
              "    outputElement.lastPromiseValue = value;\n",
              "    return next.value.response;\n",
              "  });\n",
              "}\n",
              "\n",
              "/**\n",
              " * Generator function which is called between each async step of the upload\n",
              " * process.\n",
              " * @param {string} inputId Element ID of the input file picker element.\n",
              " * @param {string} outputId Element ID of the output display.\n",
              " * @return {!Iterable<!Object>} Iterable of next steps.\n",
              " */\n",
              "function* uploadFilesStep(inputId, outputId) {\n",
              "  const inputElement = document.getElementById(inputId);\n",
              "  inputElement.disabled = false;\n",
              "\n",
              "  const outputElement = document.getElementById(outputId);\n",
              "  outputElement.innerHTML = '';\n",
              "\n",
              "  const pickedPromise = new Promise((resolve) => {\n",
              "    inputElement.addEventListener('change', (e) => {\n",
              "      resolve(e.target.files);\n",
              "    });\n",
              "  });\n",
              "\n",
              "  const cancel = document.createElement('button');\n",
              "  inputElement.parentElement.appendChild(cancel);\n",
              "  cancel.textContent = 'Cancel upload';\n",
              "  const cancelPromise = new Promise((resolve) => {\n",
              "    cancel.onclick = () => {\n",
              "      resolve(null);\n",
              "    };\n",
              "  });\n",
              "\n",
              "  // Wait for the user to pick the files.\n",
              "  const files = yield {\n",
              "    promise: Promise.race([pickedPromise, cancelPromise]),\n",
              "    response: {\n",
              "      action: 'starting',\n",
              "    }\n",
              "  };\n",
              "\n",
              "  cancel.remove();\n",
              "\n",
              "  // Disable the input element since further picks are not allowed.\n",
              "  inputElement.disabled = true;\n",
              "\n",
              "  if (!files) {\n",
              "    return {\n",
              "      response: {\n",
              "        action: 'complete',\n",
              "      }\n",
              "    };\n",
              "  }\n",
              "\n",
              "  for (const file of files) {\n",
              "    const li = document.createElement('li');\n",
              "    li.append(span(file.name, {fontWeight: 'bold'}));\n",
              "    li.append(span(\n",
              "        `(${file.type || 'n/a'}) - ${file.size} bytes, ` +\n",
              "        `last modified: ${\n",
              "            file.lastModifiedDate ? file.lastModifiedDate.toLocaleDateString() :\n",
              "                                    'n/a'} - `));\n",
              "    const percent = span('0% done');\n",
              "    li.appendChild(percent);\n",
              "\n",
              "    outputElement.appendChild(li);\n",
              "\n",
              "    const fileDataPromise = new Promise((resolve) => {\n",
              "      const reader = new FileReader();\n",
              "      reader.onload = (e) => {\n",
              "        resolve(e.target.result);\n",
              "      };\n",
              "      reader.readAsArrayBuffer(file);\n",
              "    });\n",
              "    // Wait for the data to be ready.\n",
              "    let fileData = yield {\n",
              "      promise: fileDataPromise,\n",
              "      response: {\n",
              "        action: 'continue',\n",
              "      }\n",
              "    };\n",
              "\n",
              "    // Use a chunked sending to avoid message size limits. See b/62115660.\n",
              "    let position = 0;\n",
              "    do {\n",
              "      const length = Math.min(fileData.byteLength - position, MAX_PAYLOAD_SIZE);\n",
              "      const chunk = new Uint8Array(fileData, position, length);\n",
              "      position += length;\n",
              "\n",
              "      const base64 = btoa(String.fromCharCode.apply(null, chunk));\n",
              "      yield {\n",
              "        response: {\n",
              "          action: 'append',\n",
              "          file: file.name,\n",
              "          data: base64,\n",
              "        },\n",
              "      };\n",
              "\n",
              "      let percentDone = fileData.byteLength === 0 ?\n",
              "          100 :\n",
              "          Math.round((position / fileData.byteLength) * 100);\n",
              "      percent.textContent = `${percentDone}% done`;\n",
              "\n",
              "    } while (position < fileData.byteLength);\n",
              "  }\n",
              "\n",
              "  // All done.\n",
              "  yield {\n",
              "    response: {\n",
              "      action: 'complete',\n",
              "    }\n",
              "  };\n",
              "}\n",
              "\n",
              "scope.google = scope.google || {};\n",
              "scope.google.colab = scope.google.colab || {};\n",
              "scope.google.colab._files = {\n",
              "  _uploadFiles,\n",
              "  _uploadFilesContinue,\n",
              "};\n",
              "})(self);\n",
              "</script> "
            ]
          },
          "metadata": {}
        },
        {
          "output_type": "stream",
          "name": "stdout",
          "text": [
            "Saving data.zip to data.zip\n"
          ]
        }
      ]
    },
    {
      "cell_type": "markdown",
      "metadata": {
        "id": "N0GXdiEqtCAZ"
      },
      "source": [
        "### Question 2.1: Data Preprocessing (25 points)\n",
        "Real world data is often messy and requires preprocessing before it can be used for modeling. This procedure is ubiquitous in real-world applications and is often referred to as \"data cleaning\" and \"feature engineering\". In this question, you will preprocess the Titanic dataset. The dataset can be found in the data folder.\n",
        "\n",
        "In this question, we will be using Pandas, a powerful tool for tabular data manipulation. If you don't have it installed, you can install it by running `!pip install pandas` in a code cell.\n",
        "\n",
        "Before we start, let's load the dataset and take a look at the first few rows.\n"
      ]
    },
    {
      "cell_type": "code",
      "execution_count": 320,
      "metadata": {
        "colab": {
          "base_uri": "https://localhost:8080/"
        },
        "id": "tLFXgzX5tCAZ",
        "outputId": "559b87de-980a-4ea1-9346-0a7676c69974"
      },
      "outputs": [
        {
          "output_type": "stream",
          "name": "stdout",
          "text": [
            "Index(['PassengerId', 'Survived', 'Pclass', 'Name', 'Sex', 'Age', 'SibSp',\n",
            "       'Parch', 'Ticket', 'Fare', 'Cabin', 'Embarked'],\n",
            "      dtype='object')\n",
            "(891, 12)\n",
            "   PassengerId  Survived  Pclass  \\\n",
            "0            1         0       3   \n",
            "1            2         1       1   \n",
            "2            3         1       3   \n",
            "3            4         1       1   \n",
            "4            5         0       3   \n",
            "\n",
            "                                                Name     Sex   Age  SibSp  \\\n",
            "0                            Braund, Mr. Owen Harris    male  22.0      1   \n",
            "1  Cumings, Mrs. John Bradley (Florence Briggs Th...  female  38.0      1   \n",
            "2                             Heikkinen, Miss. Laina  female  26.0      0   \n",
            "3       Futrelle, Mrs. Jacques Heath (Lily May Peel)  female  35.0      1   \n",
            "4                           Allen, Mr. William Henry    male  35.0      0   \n",
            "\n",
            "   Parch            Ticket     Fare Cabin Embarked  \n",
            "0      0         A/5 21171   7.2500   NaN        S  \n",
            "1      0          PC 17599  71.2833   C85        C  \n",
            "2      0  STON/O2. 3101282   7.9250   NaN        S  \n",
            "3      0            113803  53.1000  C123        S  \n",
            "4      0            373450   8.0500   NaN        S  \n"
          ]
        }
      ],
      "source": [
        "import pandas as pd\n",
        "\n",
        "# Load the titanic dataset\n",
        "path = \"data/titanic/train.csv\"\n",
        "data = pd.read_csv(path)\n",
        "\n",
        "# Print out the column names\n",
        "print(data.columns)\n",
        "\n",
        "# Print out the shape of the dataset\n",
        "print(data.shape)\n",
        "\n",
        "# Print out the first 5 rows of the dataset\n",
        "print(data.head(5))"
      ]
    },
    {
      "cell_type": "markdown",
      "metadata": {
        "id": "ikh_xpU-tCAZ"
      },
      "source": [
        "Here's some information about the columns in the dataset:\n",
        "* PassengerId: Unique identifier for each passenger (index, not predictive).\n",
        "* Survived: Target variable (0 = did not survive, 1 = survived).\n",
        "* Pclass: Travel class (1 = upper, 2 = middle, 3 = lower).\n",
        "* Name: Full name, may contain titles indicating social status.\n",
        "* Sex: Gender of the passenger (male/female).\n",
        "* Age: Passenger's age in years (missing values exist).\n",
        "* SibSp: Number of siblings/spouses aboard.\n",
        "* Parch: Number of parents/children aboard.\n",
        "* Ticket: Ticket number (possible grouping or class info).\n",
        "* Fare: Ticket fare paid (proxy for socio-economic status).\n",
        "* Cabin: Cabin number (location on ship, many missing values).\n",
        "* Embarked: Port of boarding (C = Cherbourg, Q = Queenstown, S = Southampton).\n",
        "\n",
        "Based on your intuition, do you think all of the columns are useful for predicting survival? If not, which columns can be dropped? (Answer in the markdown cell below)\n"
      ]
    },
    {
      "cell_type": "markdown",
      "metadata": {
        "id": "COkf7KtZtCAa"
      },
      "source": [
        "I do not think that all of the columns are useful for predicting survival. PassengerID (its just an index and not predictive), Name (does not have a meaningful impact on survival), Ticket (ticket numbering was probably random), and Cabin (too much of the data is missing for it to be useful) can all be dropped."
      ]
    },
    {
      "cell_type": "markdown",
      "metadata": {
        "id": "0DhSeS31tCAa"
      },
      "source": [
        "Building on your previous answer, drop the columns that you think are not useful for predicting survival."
      ]
    },
    {
      "cell_type": "code",
      "execution_count": 321,
      "metadata": {
        "colab": {
          "base_uri": "https://localhost:8080/"
        },
        "id": "yF99ZDrKtCAa",
        "outputId": "60c6957f-2796-4fe5-8ac6-35cde167bc67"
      },
      "outputs": [
        {
          "output_type": "stream",
          "name": "stdout",
          "text": [
            "Index(['Survived', 'Pclass', 'Sex', 'Age', 'SibSp', 'Parch', 'Fare',\n",
            "       'Embarked'],\n",
            "      dtype='object')\n",
            "(891, 8)\n",
            "   Survived  Pclass     Sex   Age  SibSp  Parch     Fare Embarked\n",
            "0         0       3    male  22.0      1      0   7.2500        S\n",
            "1         1       1  female  38.0      1      0  71.2833        C\n",
            "2         1       3  female  26.0      0      0   7.9250        S\n",
            "3         1       1  female  35.0      1      0  53.1000        S\n",
            "4         0       3    male  35.0      0      0   8.0500        S\n"
          ]
        }
      ],
      "source": [
        "##### Your code starts here #####\n",
        "\n",
        "# Drop unnecessary columns\n",
        "data = data.drop(columns=['PassengerId', 'Name', 'Ticket', 'Cabin'])\n",
        "\n",
        "# Print out the column names\n",
        "print(data.columns)\n",
        "\n",
        "# Print out the shape of the dataset\n",
        "print(data.shape)\n",
        "\n",
        "# Print out the first 5 rows of the dataset\n",
        "print(data.head(5))"
      ]
    },
    {
      "cell_type": "markdown",
      "metadata": {
        "id": "1hK5tIS3tCAa"
      },
      "source": [
        "Some of the columns in the dataset seems to have missing values, why and how would you handle missing values in the dataset? Try to propose other ways compared to the method below. (Answer in the markdown cell below)"
      ]
    },
    {
      "cell_type": "markdown",
      "metadata": {
        "id": "FwKKj8IutCAa"
      },
      "source": [
        "There could have been problems with data retrieval/collection such as incomplete or missing data that passengers may have left out when filling out their information. I would handle missing values by completely removing any rows (passengers) with missing values (especially if they have missing data from multiple columns). I might also try to use machine learning models to predict the missing values in order to have a larger dataset to make more meaningful results from.\n",
        "\n",
        "If the missing data is numerical, I could also try to replace those missing values with the mean, median, or mode of the corresponding column. If the missing data is categorical, I could try to replace the missing values with the mode of the corresponding column. However, these approaches may skew the data."
      ]
    },
    {
      "cell_type": "markdown",
      "metadata": {
        "id": "NsWZZF5mtCAa"
      },
      "source": [
        "**For** now, we use the median value to fill the missing numerical values, and the most frequent value to fill the missing categorical values."
      ]
    },
    {
      "cell_type": "code",
      "execution_count": 322,
      "metadata": {
        "id": "QGzsQBjPtCAb"
      },
      "outputs": [],
      "source": [
        "##### Your code starts here #####\n",
        "\n",
        "# Fill missing values in the \"Age\" column with the median age\n",
        "data['Age'] = data['Age'].fillna(data['Age'].median())\n",
        "# Fill missing values in the \"Embarked\" column with the most common port\n",
        "data['Embarked'] = data['Embarked'].fillna(data['Embarked'].mode()[0])"
      ]
    },
    {
      "cell_type": "markdown",
      "metadata": {
        "id": "Bnqv2yL2tCAb"
      },
      "source": [
        "Lastly, we know that computers can't handle textural data directly, so we need to convert the categorical columns into numerical columns. One common way to do this is by using one-hot encoding. It creates an one-to-one mapping between the categorical values and the numerical values."
      ]
    },
    {
      "cell_type": "code",
      "execution_count": 323,
      "metadata": {
        "id": "GW0aZyFItCAb"
      },
      "outputs": [],
      "source": [
        "##### Your code starts here #####\n",
        "\n",
        "# Do one-hot encoding on the categorical columns\n",
        "# hint: there's a pandas function that helps you do this\n",
        "data = pd.get_dummies(data, columns=['Sex', 'Embarked', 'Pclass'], drop_first=True)"
      ]
    },
    {
      "cell_type": "markdown",
      "metadata": {
        "id": "L5z8i97GtCAb"
      },
      "source": [
        "Before we can use this data for training, we should split the data into features and target. In addition, you need to make sure that your dataset has no missing values and all columns are numerical."
      ]
    },
    {
      "cell_type": "code",
      "execution_count": 324,
      "metadata": {
        "colab": {
          "base_uri": "https://localhost:8080/"
        },
        "id": "9WoMACZ6tCAb",
        "outputId": "8566b19d-eb74-48a3-c1fe-8567b7b49b0a"
      },
      "outputs": [
        {
          "output_type": "stream",
          "name": "stdout",
          "text": [
            "0\n",
            "Survived        int64\n",
            "Age           float64\n",
            "SibSp           int64\n",
            "Parch           int64\n",
            "Fare          float64\n",
            "Sex_male         bool\n",
            "Embarked_Q       bool\n",
            "Embarked_S       bool\n",
            "Pclass_2         bool\n",
            "Pclass_3         bool\n",
            "dtype: object\n"
          ]
        }
      ],
      "source": [
        "X = data.drop(columns=[\"Survived\"]) # features\n",
        "y = data[\"Survived\"]                # target\n",
        "\n",
        "# Check if there are any missing values in the dataset\n",
        "print(data.isnull().sum().sum())    # this should return 0\n",
        "\n",
        "# Check if all columns are numeric\n",
        "print(data.dtypes)                  # all columns should be numeric (or boolean)"
      ]
    },
    {
      "cell_type": "markdown",
      "metadata": {
        "id": "jb0uDjwltCAb"
      },
      "source": [
        "Now let's do the same for our test dataset."
      ]
    },
    {
      "cell_type": "code",
      "execution_count": 325,
      "metadata": {
        "colab": {
          "base_uri": "https://localhost:8080/"
        },
        "id": "whyDcriatCAc",
        "outputId": "7683fcc3-c604-4b29-b5e3-90dbbb22e264"
      },
      "outputs": [
        {
          "output_type": "stream",
          "name": "stdout",
          "text": [
            "Filling missing values in X_test with the median\n",
            "Missing values in X_test: 0\n",
            "Missing values in y_test: 0\n",
            "Data types in X_test:\n",
            "Age           float64\n",
            "SibSp           int64\n",
            "Parch           int64\n",
            "Fare          float64\n",
            "Sex_male         bool\n",
            "Embarked_Q       bool\n",
            "Embarked_S       bool\n",
            "Pclass_2         bool\n",
            "Pclass_3         bool\n",
            "dtype: object\n"
          ]
        }
      ],
      "source": [
        "path = \"data/titanic/test.csv\"\n",
        "test_data = pd.read_csv(path)\n",
        "target_path = \"data/titanic/gender_submission.csv\"\n",
        "target = pd.read_csv(target_path)\n",
        "# Merge the test data with the target data\n",
        "test_data = pd.merge(test_data, target, on=\"PassengerId\")\n",
        "\n",
        "##### Your code starts here #####\n",
        "\n",
        "# Same preprocessing steps for the test set\n",
        "\n",
        "# Drop unnecessary columns\n",
        "test_data = test_data.drop(columns=['PassengerId', 'Name', 'Ticket', 'Cabin'])\n",
        "\n",
        "# Fill missing values\n",
        "test_data['Age'] = test_data['Age'].fillna(test_data['Age'].median())\n",
        "test_data['Embarked'] = test_data['Embarked'].fillna(test_data['Embarked'].mode()[0])\n",
        "\n",
        "# Do one-hot encoding\n",
        "test_data = pd.get_dummies(test_data, columns=['Sex', 'Pclass', 'Embarked'])\n",
        "\n",
        "# Split the test set into features and target\n",
        "X_test = test_data.drop('Survived', axis=1)\n",
        "X_test = X_test.reindex(columns=X.columns, fill_value=0)\n",
        "y_test = test_data['Survived']\n",
        "\n",
        "if X_test.isnull().sum().sum() > 0:\n",
        "    print(\"Filling missing values in X_test with the median\")\n",
        "    X_test = X_test.fillna(X_test.median())\n",
        "\n",
        "# Check for missing values in X_test and y_test\n",
        "print(f\"Missing values in X_test: {X_test.isnull().sum().sum()}\")\n",
        "print(f\"Missing values in y_test: {y_test.isnull().sum()}\")\n",
        "# Check for non-numeric columns in X_test\n",
        "print(f\"Data types in X_test:\\n{X_test.dtypes}\")"
      ]
    },
    {
      "cell_type": "markdown",
      "metadata": {
        "id": "rAX68Yp-tCAc"
      },
      "source": [
        "Lastly, we convert the data into PyTorch tensors before giving it to our model."
      ]
    },
    {
      "cell_type": "code",
      "execution_count": 326,
      "metadata": {
        "colab": {
          "base_uri": "https://localhost:8080/"
        },
        "id": "SlM9-v-ntCAc",
        "outputId": "d51f7732-bee1-4114-94dd-7c4915232dbf"
      },
      "outputs": [
        {
          "output_type": "stream",
          "name": "stdout",
          "text": [
            "X shape: (891, 9)\n",
            "X shape: (891, 9)\n",
            "X_tensor shape: torch.Size([891, 9])\n",
            "X test shape: (418, 9)\n",
            "X_test_tensor shape: torch.Size([418, 9])\n"
          ]
        }
      ],
      "source": [
        "print(f\"X shape: {X.shape}\")\n",
        "\n",
        "# Convert the data to PyTorch tensors\n",
        "X = X.to_numpy(dtype=np.float32)\n",
        "X_tensor = torch.tensor(X, dtype=torch.float32)\n",
        "y_tensor = torch.tensor(y.values, dtype=torch.float32).view(-1, 1)\n",
        "\n",
        "print(f\"X shape: {X.shape}\")\n",
        "print(f\"X_tensor shape: {X_tensor.shape}\")\n",
        "\n",
        "##### Your code starts here #####\n",
        "\n",
        "# Convert the test data as well\n",
        "X_test = X_test.to_numpy(dtype=np.float32)\n",
        "X_test_tensor = torch.tensor(X_test, dtype=torch.float32)\n",
        "y_test_tensor = torch.tensor(y_test.values, dtype=torch.float32).view(-1, 1)\n",
        "\n",
        "print(f\"X test shape: {X_test.shape}\")\n",
        "print(f\"X_test_tensor shape: {X_test_tensor.shape}\")"
      ]
    },
    {
      "cell_type": "markdown",
      "metadata": {
        "id": "EsmQ03N4tCAc"
      },
      "source": [
        "### Question 2.2: Building a Linear Model (10 points)\n",
        "In this question, you will build a linear model using PyTorch to predict the survival of passengers on the Titanic. Note that the input to the model should be the features of the passengers and the output should be the predicted survival status of the passengers.\n",
        "\n",
        "Take a look at the skeleton code below, you will see that this class inherits from `torch.nn.Module` and has a method called `forward`. You will see this structure in almost all PyTorch model implementations."
      ]
    },
    {
      "cell_type": "code",
      "execution_count": 327,
      "metadata": {
        "id": "DoY45u-gtCAc"
      },
      "outputs": [],
      "source": [
        "class LinearModel(torch.nn.Module):\n",
        "    def __init__(self, input_dim):\n",
        "        \"\"\"\n",
        "        Model initialized with the dimension of the input features\n",
        "        \"\"\"\n",
        "        super(LinearModel, self).__init__()\n",
        "\n",
        "        ##### Your code starts here #####\n",
        "\n",
        "        # Define some basic linear layers\n",
        "        # Create linear layer with input_dim features and one output neuron\n",
        "        self.linear = torch.nn.Linear(input_dim, 1)\n",
        "        # Apply sigmoid activation for binary output between 0 and 1\n",
        "        self.activation = torch.nn.Sigmoid()\n",
        "\n",
        "    def forward(self, x):\n",
        "        \"\"\"\n",
        "        The forward pass of the model\n",
        "        \"\"\"\n",
        "        # Implement the forward method\n",
        "        # pass\n",
        "        x = self.linear(x)\n",
        "        x = self.activation(x)\n",
        "        return x"
      ]
    },
    {
      "cell_type": "markdown",
      "metadata": {
        "id": "05uc3DxWtCAd"
      },
      "source": [
        "### Question 2.3: Training the Model (10 points)\n",
        "In this question, you will train the model using the training data. Training a model typically involves 4 essential components:\n",
        "\n",
        "* model\n",
        "* training data\n",
        "* loss function: target function for the model to minimize\n",
        "* optimizer: the algorithm to update the model parameters\n",
        "\n",
        "This is true for almost all machine learning systems, from simple linear regressors to large language models with billions of parameters. Thus, it is essential for you to understand what each of these components do.\n",
        "\n",
        "We have defined the model and processed the training data, now let's define a loss function and an optimizer. Since we are essentially performing binary classification, we will use the binary cross-entropy loss function. In addition, we will use the Adam optimizer to update the model parameters."
      ]
    },
    {
      "cell_type": "code",
      "execution_count": 328,
      "metadata": {
        "id": "NJ6yukAltCAd"
      },
      "outputs": [],
      "source": [
        "##### Your code starts here #####\n",
        "\n",
        "# Instantiate the model\n",
        "model = LinearModel(input_dim=X.shape[1])\n",
        "# Define loss function\n",
        "criterion = torch.nn.BCELoss()\n",
        "# Define optimizer\n",
        "optimizer = torch.optim.Adam(model.parameters(), lr=0.01)"
      ]
    },
    {
      "cell_type": "markdown",
      "metadata": {
        "id": "veja8nLTtCAd"
      },
      "source": [
        "Now let's implement the training loop to start training the model. Why do we need to train the model on the same data for multiple times (epochs)? (Answer in the markdown cell below)"
      ]
    },
    {
      "cell_type": "markdown",
      "metadata": {
        "id": "B1OdDFLgtCAd"
      },
      "source": [
        "The model keeps making small adjustments in its parameters in each epoch, which allows the model to learn the patterns in the data. In addition, this process allows for convergence to a state where the loss is minimized, and can avoid getting stuck in a local minima to find a better solution."
      ]
    },
    {
      "cell_type": "code",
      "execution_count": 329,
      "metadata": {
        "colab": {
          "base_uri": "https://localhost:8080/"
        },
        "id": "CoWMsUKGtCAd",
        "outputId": "2b6aacc0-651b-438a-a672-6c8e1eb3ec5d"
      },
      "outputs": [
        {
          "output_type": "stream",
          "name": "stdout",
          "text": [
            "Epoch:  9  Loss:  1.461609125137329\n",
            "Epoch:  19  Loss:  0.5629734396934509\n",
            "Epoch:  29  Loss:  0.5471229553222656\n",
            "Epoch:  39  Loss:  0.5509201288223267\n",
            "Epoch:  49  Loss:  0.5336907505989075\n",
            "Epoch:  59  Loss:  0.5237480998039246\n",
            "Epoch:  69  Loss:  0.5174152255058289\n",
            "Epoch:  79  Loss:  0.5118623375892639\n",
            "Epoch:  89  Loss:  0.5067185163497925\n",
            "Epoch:  99  Loss:  0.5019840598106384\n"
          ]
        }
      ],
      "source": [
        "epochs = 100\n",
        "\n",
        "model.train()   # set the model to training mode\n",
        "\n",
        "##### Your code starts here #####\n",
        "\n",
        "def train(model, criterion, optimizer, X, y, epochs):\n",
        "    # Finish implementing the training loop\n",
        "    for epoch in range(epochs):\n",
        "        # Forward pass\n",
        "        outputs = model(X)\n",
        "        # Compute Loss\n",
        "        loss = criterion(outputs, y)\n",
        "        # Zero gradients, backward pass, update weights\n",
        "        optimizer.zero_grad()\n",
        "        loss.backward()\n",
        "        optimizer.step()\n",
        "        # print out the loss every 10 epochs\n",
        "        if (epoch+1) % 10 == 0:\n",
        "            print(\"Epoch: \", epoch, \" Loss: \", loss.item())\n",
        "##### Your code ends here #####\n",
        "\n",
        "train(model, criterion, optimizer, X_tensor, y_tensor, epochs)"
      ]
    },
    {
      "cell_type": "markdown",
      "metadata": {
        "id": "Ryax9UtUtCAd"
      },
      "source": [
        "### Question 2.4: Evaluation and Conclusion (30 points)\n",
        "Let's start by defining some metrics to evaluate the model. In this question, you will implement accuracy and mean squared error metrics."
      ]
    },
    {
      "cell_type": "code",
      "execution_count": 330,
      "metadata": {
        "id": "5GX4iW5ktCAd"
      },
      "outputs": [],
      "source": [
        "##### Your code starts here #####\n",
        "\n",
        "# Implement a function to calculate the accuracy of the model\n",
        "def accuracy(y_pred, y_true):\n",
        "    #pass\n",
        "\n",
        "    # Convert probabilities to binary predictions (0 or 1)\n",
        "    binary = (y_pred >= 0.5).float()\n",
        "    # Calculate the number of correct predictions\n",
        "    num_correct_preds = (binary == y_true).float()\n",
        "\n",
        "    # Calculate accuracy\n",
        "    accuracy = num_correct_preds.sum() / len(num_correct_preds)\n",
        "\n",
        "    return accuracy.item()\n",
        "\n",
        "# Implement a function to calculate the mean squared error of the model\n",
        "def mse(y_pred, y_true):\n",
        "    #pass\n",
        "\n",
        "    mse = torch.mean((y_pred - y_true) ** 2).item()\n",
        "    return mse"
      ]
    },
    {
      "cell_type": "markdown",
      "metadata": {
        "id": "mYCkSLfztCAk"
      },
      "source": [
        "Next, let's evaluate the model on the test dataset using the metrics you have implemented. You should get an accuracy above 80%. If not, rerun the training process again until you get an accuracy above 80%. Explain why we get different results each time we train the model. Are there other ways to ensure we get a representative result? (Answer in the markdown cell below)"
      ]
    },
    {
      "cell_type": "markdown",
      "metadata": {
        "id": "6oOGKqVwtCAk"
      },
      "source": [
        "The differences in results occur due to the model starting with random weights and the way that the data is shuffled during training can change each time. In order to get more consistent results, we can set a random seed so things stay the same each time we train. Cross-validation can also be utilized to test the model on different parts of the data and a validation set to help adjust settings."
      ]
    },
    {
      "cell_type": "code",
      "execution_count": 331,
      "metadata": {
        "colab": {
          "base_uri": "https://localhost:8080/"
        },
        "id": "I06-dHyCtCAk",
        "outputId": "2be00d31-d17f-4c26-86ec-d21da0bb45c7"
      },
      "outputs": [
        {
          "output_type": "stream",
          "name": "stdout",
          "text": [
            "Test Accuracy:  0.8325358629226685\n",
            "Test MSE:  0.13926942646503448\n"
          ]
        }
      ],
      "source": [
        "model.eval()            # set the model to evaluation mode\n",
        "\n",
        "##### Your code starts here #####\n",
        "\n",
        "with torch.no_grad():   # turn off gradients\n",
        "    # Implement testing and print out the accuracy and mean squared error\n",
        "\n",
        "    test_outputs = model(X_test_tensor.float())\n",
        "    test_accuracy = accuracy(test_outputs, y_test_tensor)\n",
        "    test_mse = mse(test_outputs, y_test_tensor)\n",
        "\n",
        "print(f\"Test Accuracy: \", test_accuracy)\n",
        "print(f\"Test MSE: \", test_mse)"
      ]
    },
    {
      "cell_type": "markdown",
      "metadata": {
        "id": "ncMzF0xptCAk"
      },
      "source": [
        "Finally, let's draw some conclusions based on the model you just trained. We will use the weights of the model to directly interpret the importance of each feature in predicting survival. Why is this possible? (Answer in the markdown cell below)"
      ]
    },
    {
      "cell_type": "markdown",
      "metadata": {
        "id": "ZfUxL5PMtCAl"
      },
      "source": [
        "This is possible because each feature is assigned a weight that indicates how much that feature contributes to the model's prediction in a linear model. If the absolute value of a feature's weight is larger, that feature is more important in predicting survival. A positive weight means that feature increases the chance of survival, while a negative weight means it decreases the chance. Therefore, by looking at these weights, we can directly interpret which features matter the most in predicting survival."
      ]
    },
    {
      "cell_type": "code",
      "execution_count": 332,
      "metadata": {
        "colab": {
          "base_uri": "https://localhost:8080/",
          "height": 738
        },
        "id": "Di_eu0YXtCAl",
        "outputId": "67802948-acab-40b9-b14b-b851f67918ef"
      },
      "outputs": [
        {
          "output_type": "stream",
          "name": "stdout",
          "text": [
            "      Feature  Coefficient\n",
            "7    Pclass_2     0.435907\n",
            "5  Embarked_Q     0.359708\n",
            "2       Parch     0.052643\n",
            "3        Fare     0.012829\n",
            "0         Age    -0.010238\n",
            "6  Embarked_S    -0.200684\n",
            "1       SibSp    -0.206529\n",
            "8    Pclass_3    -0.532157\n",
            "4    Sex_male    -1.118508\n"
          ]
        },
        {
          "output_type": "display_data",
          "data": {
            "text/plain": [
              "<Figure size 1000x600 with 1 Axes>"
            ],
            "image/png": "[encoded data removed]"
          },
          "metadata": {}
        }
      ],
      "source": [
        "import matplotlib.pyplot as plt\n",
        "\n",
        "# Extract coefficients from the model\n",
        "coefficients = model.linear.weight.detach().numpy().flatten()\n",
        "X = pd.DataFrame(X, columns=data.columns[1:])\n",
        "features = X.columns\n",
        "\n",
        "# Create a DataFrame for better visualization\n",
        "coef_df = pd.DataFrame({\n",
        "    \"Feature\": features,\n",
        "    \"Coefficient\": coefficients\n",
        "}).sort_values(by=\"Coefficient\", ascending=False)\n",
        "\n",
        "\n",
        "##### Your code starts here #####\n",
        "\n",
        "# Print the coefficients\n",
        "print(coef_df)\n",
        "\n",
        "# Plot the coefficients with a bar chart\n",
        "plt.figure(figsize=(10, 6))\n",
        "plt.barh(coef_df[\"Feature\"], coef_df[\"Coefficient\"], color='blue')\n",
        "plt.xlabel(\"Coefficient Value\")\n",
        "plt.title(\"Feature Importance based on Coefficients\")\n",
        "plt.show()"
      ]
    },
    {
      "cell_type": "markdown",
      "metadata": {
        "id": "_dWZFW8etCAl"
      },
      "source": [
        "Does the result align with your intuition? Why or why not? According to your results, what is the biggest contributing factor of survival? (Answer in the markdown cell below)"
      ]
    },
    {
      "cell_type": "markdown",
      "metadata": {
        "id": "1rcd1fSdtCAl"
      },
      "source": [
        "The results somewhat align with my intuition as I believed that the Pclass would be the biggest indicator of who survives since it depends on the class of the passengers, with people in middle and upper classes being offered more help, such as more access and assistance in getting on lifeboats, although Pclass_1 is not shown on this chart. As shown in the graph above, Pclass was indeed the biggest contributing factor of survival. I did not think that where passengers embarked on would play such a big factor in contributing to survival rate, but it did. Being male also played a big role in indicating survival rate, with men surviving the least since they probably prioritized women and children escaping first."
      ]
    },
    {
      "cell_type": "markdown",
      "metadata": {
        "id": "WP0dhHyTtCAl"
      },
      "source": [
        "## Statement of Collaboration\n",
        "\n",
        "It is mandatory to include a Statement of Collaboration in each submission, with respect to the guidelines below.\n",
        "Include the names of everyone involved in the discussions (especially in-person ones), and what was discussed.\n",
        "\n",
        "All students are required to follow the academic honesty guidelines posted on the course website.\n",
        "For programming assignments, in particular, I encourage the students to organize (perhaps using Ed) to discuss the task descriptions, requirements, bugs in my code, and the relevant technical content before they start working on it.\n",
        "\n",
        "However, you should not discuss the specific solutions, and, as a guiding principle, you are not allowed to take anything written or drawn away from these discussions (i.e. no photographs of the blackboard, written notes, referring to Ed, etc.).\n",
        "\n",
        "Especially after you have started working on the assignment, try to restrict the discussion to Ed as much as possible, so that there is no doubt as to the extent of your collaboration."
      ]
    },
    {
      "cell_type": "markdown",
      "metadata": {
        "id": "TJvJpelgtCAm"
      },
      "source": [
        "I worked on this assignment alone and used all resources available from Canvas to complete this assignment."
      ]
    }
  ],
  "metadata": {
    "kernelspec": {
      "display_name": "base",
      "language": "python",
      "name": "python3"
    },
    "language_info": {
      "codemirror_mode": {
        "name": "ipython",
        "version": 3
      },
      "file_extension": ".py",
      "mimetype": "text/x-python",
      "name": "python",
      "nbconvert_exporter": "python",
      "pygments_lexer": "ipython3",
      "version": "3.11.8"
    },
    "colab": {
      "provenance": []
    }
  },
  "nbformat": 4,
  "nbformat_minor": 0
}